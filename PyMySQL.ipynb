{
 "metadata": {
  "language_info": {
   "codemirror_mode": {
    "name": "ipython",
    "version": 3
   },
   "file_extension": ".py",
   "mimetype": "text/x-python",
   "name": "python",
   "nbconvert_exporter": "python",
   "pygments_lexer": "ipython3",
   "version": "3.8.3-final"
  },
  "orig_nbformat": 2,
  "kernelspec": {
   "name": "python3",
   "display_name": "Python 3",
   "language": "python"
  }
 },
 "nbformat": 4,
 "nbformat_minor": 2,
 "cells": [
  {
   "cell_type": "code",
   "execution_count": 4,
   "metadata": {},
   "outputs": [],
   "source": [
    "import pandas as pd \n",
    "import numpy as np \n",
    "import mysql.connector as ms"
   ]
  },
  {
   "cell_type": "code",
   "execution_count": 6,
   "metadata": {},
   "outputs": [
    {
     "output_type": "stream",
     "name": "stdout",
     "text": [
      "Connection is successfull\n"
     ]
    }
   ],
   "source": [
    "mydb=ms.connect(host='localhost',user='root',passwd='Staners2020',database ='sakila')\n",
    "if mydb.is_connected():\n",
    "    print(\"Connection is successfull\")\n"
   ]
  },
  {
   "source": [
    "## 1.Show a list of 10 shortest-running comedies"
   ],
   "cell_type": "markdown",
   "metadata": {}
  },
  {
   "cell_type": "code",
   "execution_count": 9,
   "metadata": {},
   "outputs": [
    {
     "output_type": "execute_result",
     "data": {
      "text/plain": [
       "              title category  length\n",
       "0   DOWNHILL ENOUGH   Comedy      47\n",
       "1    HEAVEN FREEDOM   Comedy      48\n",
       "2  PARADISE SABRINA   Comedy      48\n",
       "3  HURRICANE AFFAIR   Comedy      49\n",
       "4         ZORRO ARK   Comedy      50\n",
       "5        LION UNCUT   Comedy      50\n",
       "6       CLOSER BANG   Comedy      58\n",
       "7   AIRPLANE SIERRA   Comedy      62\n",
       "8   LONELY ELEPHANT   Comedy      67\n",
       "9      DOOM DANCING   Comedy      68"
      ],
      "text/html": "<div>\n<style scoped>\n    .dataframe tbody tr th:only-of-type {\n        vertical-align: middle;\n    }\n\n    .dataframe tbody tr th {\n        vertical-align: top;\n    }\n\n    .dataframe thead th {\n        text-align: right;\n    }\n</style>\n<table border=\"1\" class=\"dataframe\">\n  <thead>\n    <tr style=\"text-align: right;\">\n      <th></th>\n      <th>title</th>\n      <th>category</th>\n      <th>length</th>\n    </tr>\n  </thead>\n  <tbody>\n    <tr>\n      <th>0</th>\n      <td>DOWNHILL ENOUGH</td>\n      <td>Comedy</td>\n      <td>47</td>\n    </tr>\n    <tr>\n      <th>1</th>\n      <td>HEAVEN FREEDOM</td>\n      <td>Comedy</td>\n      <td>48</td>\n    </tr>\n    <tr>\n      <th>2</th>\n      <td>PARADISE SABRINA</td>\n      <td>Comedy</td>\n      <td>48</td>\n    </tr>\n    <tr>\n      <th>3</th>\n      <td>HURRICANE AFFAIR</td>\n      <td>Comedy</td>\n      <td>49</td>\n    </tr>\n    <tr>\n      <th>4</th>\n      <td>ZORRO ARK</td>\n      <td>Comedy</td>\n      <td>50</td>\n    </tr>\n    <tr>\n      <th>5</th>\n      <td>LION UNCUT</td>\n      <td>Comedy</td>\n      <td>50</td>\n    </tr>\n    <tr>\n      <th>6</th>\n      <td>CLOSER BANG</td>\n      <td>Comedy</td>\n      <td>58</td>\n    </tr>\n    <tr>\n      <th>7</th>\n      <td>AIRPLANE SIERRA</td>\n      <td>Comedy</td>\n      <td>62</td>\n    </tr>\n    <tr>\n      <th>8</th>\n      <td>LONELY ELEPHANT</td>\n      <td>Comedy</td>\n      <td>67</td>\n    </tr>\n    <tr>\n      <th>9</th>\n      <td>DOOM DANCING</td>\n      <td>Comedy</td>\n      <td>68</td>\n    </tr>\n  </tbody>\n</table>\n</div>"
     },
     "metadata": {},
     "execution_count": 9
    }
   ],
   "source": [
    "mycursor= mydb.cursor()\n",
    "mycursor.execute('''\n",
    "select title, category, length from film_list\n",
    "where category='Comedy'\n",
    "order by length\n",
    "limit 10;\n",
    "''')\n",
    "myresult= mycursor.fetchall()\n",
    "columns= mycursor.column_names\n",
    "tables= pd.DataFrame(myresult, columns=columns)\n",
    "tables"
   ]
  },
  {
   "source": [
    "## 2.Show a complete list of movie categories along with the number of movies per category & the average DVD rental price of each category"
   ],
   "cell_type": "markdown",
   "metadata": {}
  },
  {
   "cell_type": "code",
   "execution_count": 12,
   "metadata": {},
   "outputs": [
    {
     "output_type": "execute_result",
     "data": {
      "text/plain": [
       "      Category averagPriceWa\n",
       "0       Action      2.980000\n",
       "1    Animation      2.980000\n",
       "2     Children      2.980000\n",
       "3     Classics      2.980000\n",
       "4       Comedy      2.980000\n",
       "5  Documentary      2.980000\n",
       "6        Drama      2.980000\n",
       "7       Family      2.980000\n",
       "8      Foreign      2.980000\n",
       "9        Games      2.980000"
      ],
      "text/html": "<div>\n<style scoped>\n    .dataframe tbody tr th:only-of-type {\n        vertical-align: middle;\n    }\n\n    .dataframe tbody tr th {\n        vertical-align: top;\n    }\n\n    .dataframe thead th {\n        text-align: right;\n    }\n</style>\n<table border=\"1\" class=\"dataframe\">\n  <thead>\n    <tr style=\"text-align: right;\">\n      <th></th>\n      <th>Category</th>\n      <th>averagPriceWa</th>\n    </tr>\n  </thead>\n  <tbody>\n    <tr>\n      <th>0</th>\n      <td>Action</td>\n      <td>2.980000</td>\n    </tr>\n    <tr>\n      <th>1</th>\n      <td>Animation</td>\n      <td>2.980000</td>\n    </tr>\n    <tr>\n      <th>2</th>\n      <td>Children</td>\n      <td>2.980000</td>\n    </tr>\n    <tr>\n      <th>3</th>\n      <td>Classics</td>\n      <td>2.980000</td>\n    </tr>\n    <tr>\n      <th>4</th>\n      <td>Comedy</td>\n      <td>2.980000</td>\n    </tr>\n    <tr>\n      <th>5</th>\n      <td>Documentary</td>\n      <td>2.980000</td>\n    </tr>\n    <tr>\n      <th>6</th>\n      <td>Drama</td>\n      <td>2.980000</td>\n    </tr>\n    <tr>\n      <th>7</th>\n      <td>Family</td>\n      <td>2.980000</td>\n    </tr>\n    <tr>\n      <th>8</th>\n      <td>Foreign</td>\n      <td>2.980000</td>\n    </tr>\n    <tr>\n      <th>9</th>\n      <td>Games</td>\n      <td>2.980000</td>\n    </tr>\n  </tbody>\n</table>\n</div>"
     },
     "metadata": {},
     "execution_count": 12
    }
   ],
   "source": [
    "mycursor= mydb.cursor()\n",
    "mycursor.execute('''\n",
    "select category.name as Category, avg(rental_rate) as averagPriceWa\n",
    "from category, film\n",
    "group by category\n",
    "limit 10;\n",
    "''')\n",
    "myresult= mycursor.fetchall()\n",
    "columns= mycursor.column_names\n",
    "tables= pd.DataFrame(myresult, columns=columns)\n",
    "tables"
   ]
  },
  {
   "source": [
    "## 3.Show a list of the 10 actors/actresses who starred in the most movies. The columns shown are minimal: actor id, first name, last name and number of movies starring"
   ],
   "cell_type": "markdown",
   "metadata": {}
  },
  {
   "cell_type": "code",
   "execution_count": 15,
   "metadata": {},
   "outputs": [
    {
     "output_type": "execute_result",
     "data": {
      "text/plain": [
       "   actor_id first_name    last_name  jumlah_movie\n",
       "0       107       GINA    DEGENERES            42\n",
       "1       102     WALTER         TORN            41\n",
       "2       198       MARY       KEITEL            40\n",
       "3       181    MATTHEW       CARREY            39\n",
       "4        23     SANDRA       KILMER            37\n",
       "5        81   SCARLETT        DAMON            36\n",
       "6       158     VIVIEN     BASINGER            35\n",
       "7       144     ANGELA  WITHERSPOON            35\n",
       "8       106    GROUCHO        DUNST            35\n",
       "9        60      HENRY        BERRY            35"
      ],
      "text/html": "<div>\n<style scoped>\n    .dataframe tbody tr th:only-of-type {\n        vertical-align: middle;\n    }\n\n    .dataframe tbody tr th {\n        vertical-align: top;\n    }\n\n    .dataframe thead th {\n        text-align: right;\n    }\n</style>\n<table border=\"1\" class=\"dataframe\">\n  <thead>\n    <tr style=\"text-align: right;\">\n      <th></th>\n      <th>actor_id</th>\n      <th>first_name</th>\n      <th>last_name</th>\n      <th>jumlah_movie</th>\n    </tr>\n  </thead>\n  <tbody>\n    <tr>\n      <th>0</th>\n      <td>107</td>\n      <td>GINA</td>\n      <td>DEGENERES</td>\n      <td>42</td>\n    </tr>\n    <tr>\n      <th>1</th>\n      <td>102</td>\n      <td>WALTER</td>\n      <td>TORN</td>\n      <td>41</td>\n    </tr>\n    <tr>\n      <th>2</th>\n      <td>198</td>\n      <td>MARY</td>\n      <td>KEITEL</td>\n      <td>40</td>\n    </tr>\n    <tr>\n      <th>3</th>\n      <td>181</td>\n      <td>MATTHEW</td>\n      <td>CARREY</td>\n      <td>39</td>\n    </tr>\n    <tr>\n      <th>4</th>\n      <td>23</td>\n      <td>SANDRA</td>\n      <td>KILMER</td>\n      <td>37</td>\n    </tr>\n    <tr>\n      <th>5</th>\n      <td>81</td>\n      <td>SCARLETT</td>\n      <td>DAMON</td>\n      <td>36</td>\n    </tr>\n    <tr>\n      <th>6</th>\n      <td>158</td>\n      <td>VIVIEN</td>\n      <td>BASINGER</td>\n      <td>35</td>\n    </tr>\n    <tr>\n      <th>7</th>\n      <td>144</td>\n      <td>ANGELA</td>\n      <td>WITHERSPOON</td>\n      <td>35</td>\n    </tr>\n    <tr>\n      <th>8</th>\n      <td>106</td>\n      <td>GROUCHO</td>\n      <td>DUNST</td>\n      <td>35</td>\n    </tr>\n    <tr>\n      <th>9</th>\n      <td>60</td>\n      <td>HENRY</td>\n      <td>BERRY</td>\n      <td>35</td>\n    </tr>\n  </tbody>\n</table>\n</div>"
     },
     "metadata": {},
     "execution_count": 15
    }
   ],
   "source": [
    "mycursor= mydb.cursor()\n",
    "mycursor.execute('''\n",
    "select actor_id, first_name, last_name, count(film_id) as jumlah_movie\n",
    "from actor join film_actor using (actor_id)\n",
    "group by actor_id\n",
    "order by jumlah_movie desc, actor_id desc\n",
    "limit 10;\n",
    "''')\n",
    "myresult= mycursor.fetchall()\n",
    "columns= mycursor.column_names\n",
    "tables= pd.DataFrame(myresult, columns=columns)\n",
    "tables"
   ]
  },
  {
   "source": [
    "## 4.Show a list of movie categories along with the number of movies that have starred Gina Degeneres"
   ],
   "cell_type": "markdown",
   "metadata": {}
  },
  {
   "cell_type": "code",
   "execution_count": 27,
   "metadata": {},
   "outputs": [
    {
     "output_type": "error",
     "ename": "ProgrammingError",
     "evalue": "1054 (42S22): Unknown column 'fisrt_name' in 'from clause'",
     "traceback": [
      "\u001b[1;31m---------------------------------------------------------------------------\u001b[0m",
      "\u001b[1;31mMySQLInterfaceError\u001b[0m                       Traceback (most recent call last)",
      "\u001b[1;32m~\\anaconda3\\lib\\site-packages\\mysql\\connector\\connection_cext.py\u001b[0m in \u001b[0;36mcmd_query\u001b[1;34m(self, query, raw, buffered, raw_as_string)\u001b[0m\n\u001b[0;32m    503\u001b[0m                 \u001b[0mquery\u001b[0m \u001b[1;33m=\u001b[0m \u001b[0mquery\u001b[0m\u001b[1;33m.\u001b[0m\u001b[0mencode\u001b[0m\u001b[1;33m(\u001b[0m\u001b[1;34m'utf-8'\u001b[0m\u001b[1;33m)\u001b[0m\u001b[1;33m\u001b[0m\u001b[1;33m\u001b[0m\u001b[0m\n\u001b[1;32m--> 504\u001b[1;33m             self._cmysql.query(query,\n\u001b[0m\u001b[0;32m    505\u001b[0m                                \u001b[0mraw\u001b[0m\u001b[1;33m=\u001b[0m\u001b[0mraw\u001b[0m\u001b[1;33m,\u001b[0m \u001b[0mbuffered\u001b[0m\u001b[1;33m=\u001b[0m\u001b[0mbuffered\u001b[0m\u001b[1;33m,\u001b[0m\u001b[1;33m\u001b[0m\u001b[1;33m\u001b[0m\u001b[0m\n",
      "\u001b[1;31mMySQLInterfaceError\u001b[0m: Unknown column 'fisrt_name' in 'from clause'",
      "\nDuring handling of the above exception, another exception occurred:\n",
      "\u001b[1;31mProgrammingError\u001b[0m                          Traceback (most recent call last)",
      "\u001b[1;32m<ipython-input-27-13c48edc2030>\u001b[0m in \u001b[0;36m<module>\u001b[1;34m\u001b[0m\n\u001b[0;32m      1\u001b[0m \u001b[0mmycursor\u001b[0m\u001b[1;33m=\u001b[0m \u001b[0mmydb\u001b[0m\u001b[1;33m.\u001b[0m\u001b[0mcursor\u001b[0m\u001b[1;33m(\u001b[0m\u001b[1;33m)\u001b[0m\u001b[1;33m\u001b[0m\u001b[1;33m\u001b[0m\u001b[0m\n\u001b[1;32m----> 2\u001b[1;33m mycursor.execute('''\n\u001b[0m\u001b[0;32m      3\u001b[0m \u001b[0mselect\u001b[0m  \u001b[0mfirst_name\u001b[0m\u001b[1;33m,\u001b[0m \u001b[0mcount\u001b[0m\u001b[1;33m(\u001b[0m\u001b[0mfilm_id\u001b[0m\u001b[1;33m)\u001b[0m \u001b[1;32mas\u001b[0m \u001b[0mjumlah_movie\u001b[0m\u001b[1;33m\u001b[0m\u001b[1;33m\u001b[0m\u001b[0m\n\u001b[0;32m      4\u001b[0m \u001b[1;32mfrom\u001b[0m \u001b[0mactor\u001b[0m \u001b[0mjoin\u001b[0m \u001b[0mfilm_actor\u001b[0m \u001b[0musing\u001b[0m \u001b[1;33m(\u001b[0m\u001b[0mfisrt_name\u001b[0m\u001b[1;33m)\u001b[0m\u001b[1;33m\u001b[0m\u001b[1;33m\u001b[0m\u001b[0m\n\u001b[0;32m      5\u001b[0m \u001b[0mgroup\u001b[0m \u001b[0mby\u001b[0m \u001b[0mactor_id\u001b[0m\u001b[1;33m\u001b[0m\u001b[1;33m\u001b[0m\u001b[0m\n",
      "\u001b[1;32m~\\anaconda3\\lib\\site-packages\\mysql\\connector\\cursor_cext.py\u001b[0m in \u001b[0;36mexecute\u001b[1;34m(self, operation, params, multi)\u001b[0m\n\u001b[0;32m    262\u001b[0m \u001b[1;33m\u001b[0m\u001b[0m\n\u001b[0;32m    263\u001b[0m         \u001b[1;32mtry\u001b[0m\u001b[1;33m:\u001b[0m\u001b[1;33m\u001b[0m\u001b[1;33m\u001b[0m\u001b[0m\n\u001b[1;32m--> 264\u001b[1;33m             result = self._cnx.cmd_query(stmt, raw=self._raw,\n\u001b[0m\u001b[0;32m    265\u001b[0m                                          \u001b[0mbuffered\u001b[0m\u001b[1;33m=\u001b[0m\u001b[0mself\u001b[0m\u001b[1;33m.\u001b[0m\u001b[0m_buffered\u001b[0m\u001b[1;33m,\u001b[0m\u001b[1;33m\u001b[0m\u001b[1;33m\u001b[0m\u001b[0m\n\u001b[0;32m    266\u001b[0m                                          raw_as_string=self._raw_as_string)\n",
      "\u001b[1;32m~\\anaconda3\\lib\\site-packages\\mysql\\connector\\connection_cext.py\u001b[0m in \u001b[0;36mcmd_query\u001b[1;34m(self, query, raw, buffered, raw_as_string)\u001b[0m\n\u001b[0;32m    506\u001b[0m                                raw_as_string=raw_as_string)\n\u001b[0;32m    507\u001b[0m         \u001b[1;32mexcept\u001b[0m \u001b[0mMySQLInterfaceError\u001b[0m \u001b[1;32mas\u001b[0m \u001b[0mexc\u001b[0m\u001b[1;33m:\u001b[0m\u001b[1;33m\u001b[0m\u001b[1;33m\u001b[0m\u001b[0m\n\u001b[1;32m--> 508\u001b[1;33m             raise errors.get_mysql_exception(exc.errno, msg=exc.msg,\n\u001b[0m\u001b[0;32m    509\u001b[0m                                              sqlstate=exc.sqlstate)\n\u001b[0;32m    510\u001b[0m         \u001b[1;32mexcept\u001b[0m \u001b[0mAttributeError\u001b[0m\u001b[1;33m:\u001b[0m\u001b[1;33m\u001b[0m\u001b[1;33m\u001b[0m\u001b[0m\n",
      "\u001b[1;31mProgrammingError\u001b[0m: 1054 (42S22): Unknown column 'fisrt_name' in 'from clause'"
     ]
    }
   ],
   "source": [
    "mycursor= mydb.cursor()\n",
    "mycursor.execute('''\n",
    "select  first_name, count(film_id) as jumlah_movie\n",
    "from actor join film_actor using (fisrt_name) \n",
    "group by actor_id\n",
    "order by jumlah_movie desc, fisrt_name desc\n",
    "limit 10;\n",
    "''')\n",
    "myresult= mycursor.fetchall()\n",
    "columns= mycursor.column_names\n",
    "tables= pd.DataFrame(myresult, columns=columns)\n",
    "tables"
   ]
  },
  {
   "cell_type": "code",
   "execution_count": null,
   "metadata": {},
   "outputs": [],
   "source": []
  }
 ]
}